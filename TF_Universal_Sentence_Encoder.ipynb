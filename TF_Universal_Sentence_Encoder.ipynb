{
  "cells": [
    {
      "cell_type": "code",
      "execution_count": null,
      "metadata": {
        "colab": {
          "base_uri": "https://localhost:8080/"
        },
        "id": "I7tm3ECBU-Bk",
        "outputId": "009e8a69-0018-46ff-8c34-91c2cfa3e83e"
      },
      "outputs": [
        {
          "output_type": "stream",
          "name": "stdout",
          "text": [
            "module https://tfhub.dev/google/universal-sentence-encoder/4 loaded\n"
          ]
        }
      ],
      "source": [
        "from absl import logging\n",
        "\n",
        "import tensorflow as tf\n",
        "import tensorflow_hub as hub\n",
        "import matplotlib.pyplot as plt\n",
        "import numpy as np\n",
        "import os\n",
        "import pandas as pd\n",
        "import re\n",
        "import seaborn as sns\n",
        "\n",
        "module_url = \"https://tfhub.dev/google/universal-sentence-encoder/4\"\n",
        "model = hub.load(module_url)\n",
        "print (\"module %s loaded\" % module_url)\n",
        "def embed(input):\n",
        "  return model(input)"
      ]
    },
    {
      "cell_type": "code",
      "source": [
        "groups = {'general': ['MentalHealthSupport','mentalhealth','mental','personalitydisorders',\n",
        "                      'mentalillness','MentalHealthPH'],\n",
        "          \n",
        "          'control': ['askscience','askscience2','LifeProTips','LifeProTips2','AskReddit','AskReddit2',\n",
        "                      'answers','answers2', 'AskScienceFiction','AskScienceFiction2','TrueAskReddit',\n",
        "                      'TrueAskReddit2'],\n",
        "\n",
        "          'adhd': ['ADHD','ADHD2'],\n",
        "\n",
        "          'autism': ['aspergaers','autism2','AutisticQueers','AutismInWomen','Aspergers_Elders',\n",
        "                     'asperger','AutisticPride','autism','AutismTranslated','aspergers_dating',\n",
        "                     'aspergirls','AutisticAdults'],\n",
        "          \n",
        "          'anxiety': ['anxiety'],\n",
        "\n",
        "          'ocd': ['OCD'],\n",
        "\n",
        "          'ptsd': ['ptsd','CPTSD'],\n",
        "\n",
        "          'phobia': ['Phobia','emetophobia','Agoraphobia'],\n",
        "\n",
        "          'socialanxiety':['socialanxiety','socialanxiety2'],\n",
        "          \n",
        "          'depression': ['depression1','depression2','depression3'],\n",
        "\n",
        "          'sadness': ['sad11','sad22','sad33'],\n",
        "          \n",
        "          'bipolar': ['bipolar','BipolarReddit'],\n",
        "          \n",
        "          'schizophrenia': ['schizophrenia','paranoidschizophrenia','schizoaffective','Psychosis'],\n",
        "\n",
        "          'cluster_a': ['Schizoid','Schizotypal','ParanoidPersonality',\n",
        "                        'Paranoid','ParanoiaCheck','Paranoia'],\n",
        "          'cluster_b': ['BorderlinePDisorder','BPD','Borderline','hpd','NPD','narcissism',\n",
        "                        'sociopath', 'psychopath','Psychopathy','aspd'],\n",
        "          'cluster_c': ['OCPD','AvPD','Avoidant', 'DPD'],\n",
        "\n",
        "          'selfharm': ['selfharm','StopSelfHarm','AdultSelfHarm',\n",
        "                       'SuicideWatch11','SuicideWatch22','SuicideWatch33'],\n",
        "          \n",
        "          'addiction': ['addiction','alcoholism'],\n",
        "\n",
        "          'eating': ['ARFID', 'bulimia','eating_disorders','EDAnonymous','EatingDisorders'],\n",
        "\n",
        "          'dpdr': ['dpdr'],\n",
        "          'dysmorphic': ['DysmorphicDisorder', 'BodyAcceptance'],\n",
        "          'tourettes': ['Tourettes'],\n",
        "          'anger': ['Anger'],\n",
        "          }\n"
      ],
      "metadata": {
        "id": "hqI17JAOnHg1"
      },
      "execution_count": null,
      "outputs": []
    },
    {
      "cell_type": "code",
      "source": [
        "txt_500 = '/content/drive/MyDrive/txt_500/'\n",
        "train_path = '/content/drive/MyDrive/dataset/train/'\n",
        "test_path = '/content/drive/MyDrive/dataset/test/'\n",
        "path = '/content/drive/MyDrive/data/'"
      ],
      "metadata": {
        "id": "J18nHZFqnI0-"
      },
      "execution_count": null,
      "outputs": []
    },
    {
      "cell_type": "code",
      "execution_count": null,
      "metadata": {
        "id": "F29SwEn2VpvO"
      },
      "outputs": [],
      "source": [
        "groups = [x for x in os.listdir(path) if x.endswith('.csv')]\n",
        "# get X, y\n",
        "X=[]\n",
        "y=[]\n",
        "for i,g in enumerate(groups):\n",
        "    name = g[:-6]\n",
        "    df = pd.read_csv(path+g, usecols=['text'], lineterminator='\\n')\n",
        "    if i:\n",
        "        X.extend(df.text)\n",
        "        y.extend([name]*len(df)) "
      ]
    },
    {
      "cell_type": "code",
      "execution_count": null,
      "metadata": {
        "id": "xXL-3n0iXgAZ"
      },
      "outputs": [],
      "source": [
        "from sklearn.utils import shuffle\n",
        "from sklearn.model_selection import train_test_split\n",
        "\n",
        "X, y = shuffle(X, y)\n",
        "X_tr = []\n",
        "batch = 10000\n",
        "for i in range(0, len(X), batch):\n",
        "    X_batch = embed(X[i:i+batch])\n",
        "    y_batch = \n",
        "X_tr = np.array(X_tr)\n",
        "X_train, X_test, y_train, y_test = train_test_split(X_tr,y)"
      ]
    },
    {
      "cell_type": "code",
      "execution_count": null,
      "metadata": {
        "id": "oaLdedeVXgDU",
        "colab": {
          "base_uri": "https://localhost:8080/"
        },
        "outputId": "68942b19-76ea-444b-97fe-1e93140ccb39"
      },
      "outputs": [
        {
          "output_type": "execute_result",
          "data": {
            "text/plain": [
              "SGDClassifier(loss='log', n_jobs=-1)"
            ]
          },
          "metadata": {},
          "execution_count": 16
        }
      ],
      "source": [
        "from sklearn.linear_model import SGDClassifier\n",
        "clf = SGDClassifier(loss='log', n_jobs=-1)\n",
        "clf.fit(X_train,y_train)\n"
      ]
    },
    {
      "cell_type": "code",
      "source": [
        "from sklearn.metrics import accuracy_score,precision_score,recall_score, f1_score\n",
        "y_pred = clf.predict(X_test)\n",
        "print('Accuracy: {:.2f}%\\n'.format(100*accuracy_score(y_test, y_pred)))\n",
        "print('Precision (micro): {:.2f}%'.format(100*precision_score(y_test, y_pred, average='micro'))) \n",
        "print('Recall (micro): {:.2f}%'.format(100*recall_score(y_test, y_pred, average='micro')))  \n",
        "print('F1 (micro): {:.2f}%\\n'.format(100*f1_score(y_test, y_pred, average='micro'))) \n",
        "print('Precision (macro): {:.2f}%'.format(100*precision_score(y_test, y_pred, average='macro'))) \n",
        "print('Recall (macro): {:.2f}%'.format(100*recall_score(y_test, y_pred, average='macro'))) \n",
        "print('F1 (macro): {:.2f}%'.format(100*f1_score(y_test, y_pred, average='macro')))   "
      ],
      "metadata": {
        "colab": {
          "base_uri": "https://localhost:8080/"
        },
        "id": "fAUFHh0LIPlh",
        "outputId": "f37efddb-af3f-41da-909e-95d03c7ea90d"
      },
      "execution_count": null,
      "outputs": [
        {
          "output_type": "stream",
          "name": "stdout",
          "text": [
            "Accuracy: 8.10%\n",
            "\n",
            "Precision (micro): 8.10%\n",
            "Recall (micro): 8.10%\n",
            "F1 (micro): 8.10%\n",
            "\n"
          ]
        },
        {
          "output_type": "stream",
          "name": "stderr",
          "text": [
            "/usr/local/lib/python3.7/dist-packages/sklearn/metrics/_classification.py:1318: UndefinedMetricWarning: Precision is ill-defined and being set to 0.0 in labels with no predicted samples. Use `zero_division` parameter to control this behavior.\n",
            "  _warn_prf(average, modifier, msg_start, len(result))\n"
          ]
        },
        {
          "output_type": "stream",
          "name": "stdout",
          "text": [
            "Precision (macro): 6.86%\n",
            "Recall (macro): 7.99%\n",
            "F1 (macro): 5.80%\n"
          ]
        }
      ]
    },
    {
      "cell_type": "code",
      "source": [
        "from sklearn.ensemble import RandomForestClassifier\n",
        "forest = RandomForestClassifier()\n",
        "forest.fit(X_train,y_train)\n",
        "y_pred = forest.predict(X_test)\n",
        "\n",
        "print('Accuracy: {:.2f}%\\n'.format(100*accuracy_score(y_test, y_pred)))\n",
        "print('Precision (micro): {:.2f}%'.format(100*precision_score(y_test, y_pred, average='micro'))) \n",
        "print('Recall (micro): {:.2f}%'.format(100*recall_score(y_test, y_pred, average='micro')))  \n",
        "print('F1 (micro): {:.2f}%\\n'.format(100*f1_score(y_test, y_pred, average='micro'))) \n",
        "print('Precision (macro): {:.2f}%'.format(100*precision_score(y_test, y_pred, average='macro'))) \n",
        "print('Recall (macro): {:.2f}%'.format(100*recall_score(y_test, y_pred, average='macro'))) \n",
        "print('F1 (macro): {:.2f}%'.format(100*f1_score(y_test, y_pred, average='macro')))   \n"
      ],
      "metadata": {
        "colab": {
          "base_uri": "https://localhost:8080/"
        },
        "id": "56L40AqsKVtJ",
        "outputId": "8d10c876-79ef-45af-f077-d89ac398805b"
      },
      "execution_count": null,
      "outputs": [
        {
          "output_type": "stream",
          "name": "stdout",
          "text": [
            "Accuracy: 7.77%\n",
            "\n",
            "Precision (micro): 7.77%\n",
            "Recall (micro): 7.77%\n",
            "F1 (micro): 7.77%\n",
            "\n",
            "Precision (macro): 6.92%\n",
            "Recall (macro): 7.68%\n",
            "F1 (macro): 6.83%\n"
          ]
        }
      ]
    }
  ],
  "metadata": {
    "colab": {
      "name": "Tensorflow_Universal2.ipynb",
      "provenance": [],
      "collapsed_sections": [],
      "machine_shape": "hm"
    },
    "kernelspec": {
      "display_name": "Python 3",
      "name": "python3"
    },
    "language_info": {
      "name": "python"
    },
    "gpuClass": "standard"
  },
  "nbformat": 4,
  "nbformat_minor": 0
}