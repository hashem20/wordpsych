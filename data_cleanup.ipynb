{
  "nbformat": 4,
  "nbformat_minor": 0,
  "metadata": {
    "colab": {
      "name": "Copy of Copy of data.ipynb",
      "provenance": [],
      "collapsed_sections": []
    },
    "kernelspec": {
      "name": "python3",
      "display_name": "Python 3"
    },
    "language_info": {
      "name": "python"
    },
    "gpuClass": "standard"
  },
  "cells": [
    {
      "cell_type": "code",
      "source": [
        "import os\n",
        "import pandas as pd\n",
        "from joblib import delayed, Parallel \n",
        "\n",
        "root = '/content/drive/MyDrive/reddit_data/'\n",
        "out = '/content/drive/MyDrive/txt_500/'\n",
        "\n",
        "groups  =  {'general': ['MentalHealthSupport','mentalhealth','mental','personalitydisorders',\n",
        "                    'mentalillness','MentalHealthPH'],\n",
        "        \n",
        "            'control': ['askscience','askscience2','LifeProTips','LifeProTips2','AskReddit','AskReddit2',\n",
        "                        'answers','answers2', 'AskScienceFiction','AskScienceFiction2','TrueAskReddit',\n",
        "                        'TrueAskReddit2'],\n",
        "\n",
        "            'adhd': ['ADHD','ADHD2'],\n",
        "\n",
        "            'autism': ['aspergers','autism2','AutisticQueers','AutismInWomen','Aspergers_Elders',\n",
        "                        'asperger','AutisticPride','autism','AutismTranslated','aspergers_dating',\n",
        "                        'aspergirls','AutisticAdults'],\n",
        "            \n",
        "            'anxiety': ['anxiety'],\n",
        "\n",
        "            'ocd': ['OCD'],\n",
        "\n",
        "            'ptsd': ['ptsd','CPTSD'],\n",
        "\n",
        "            'phobia': ['Phobia','emetophobia','Agoraphobia'],\n",
        "\n",
        "            'socialanxiety':['socialanxiety','socialanxiety2'],\n",
        "            \n",
        "            'depression': ['depression1','depression2','depression3'],\n",
        "\n",
        "            'sadness': ['sad11','sad22','sad33'],\n",
        "            \n",
        "            'bipolar': ['bipolar','BipolarReddit'],\n",
        "            \n",
        "            'schizophrenia': ['schizophrenia','paranoidschizophrenia','schizoaffective','Psychosis'],\n",
        "\n",
        "            'cluster_a': ['Schizoid','Schizotypal','ParanoidPersonality',\n",
        "                            'Paranoid','ParanoiaCheck','Paranoia'],\n",
        "            'cluster_b': ['BorderlinePDisorder','BPD','Borderline','hpd','NPD','narcissism',\n",
        "                            'sociopath', 'psychopath','Psychopathy','aspd'],\n",
        "            'cluster_c': ['OCPD','AvPD','Avoidant', 'DPD'],\n",
        "\n",
        "            'selfharm': ['selfharm','StopSelfHarm','AdultSelfHarm',\n",
        "                        'SuicideWatch11','SuicideWatch22','SuicideWatch33'],\n",
        "            \n",
        "            'addiction': ['addiction','alcoholism'],\n",
        "\n",
        "            'eating': ['ARFID', 'bulimia','eating_disorders','EDAnonymous','EatingDisorders'],\n",
        "\n",
        "            'dpdr': ['dpdr'],\n",
        "            'dysmorphic': ['DysmorphicDisorder', 'BodyAcceptance'],\n",
        "            'tourettes': ['Tourettes'],\n",
        "            'anger': ['Anger'],\n",
        "            }\n",
        "\n",
        "def func(label):\n",
        "    root = '/content/drive/MyDrive/reddit_data/'\n",
        "    out = '/content/drive/MyDrive/txt_500/'\n",
        "    groups  =  {'general': ['MentalHealthSupport','mentalhealth','mental','personalitydisorders',\n",
        "                      'mentalillness','MentalHealthPH'],\n",
        "          \n",
        "                'control': ['askscience','askscience2','LifeProTips','LifeProTips2','AskReddit','AskReddit2',\n",
        "                            'answers','answers2', 'AskScienceFiction','AskScienceFiction2','TrueAskReddit',\n",
        "                            'TrueAskReddit2'],\n",
        "\n",
        "                'adhd': ['ADHD','ADHD2'],\n",
        "\n",
        "                'autism': ['aspergers','autism2','AutisticQueers','AutismInWomen','Aspergers_Elders',\n",
        "                            'asperger','AutisticPride','autism','AutismTranslated','aspergers_dating',\n",
        "                            'aspergirls','AutisticAdults'],\n",
        "                \n",
        "                'anxiety': ['anxiety'],\n",
        "\n",
        "                'ocd': ['OCD'],\n",
        "\n",
        "                'ptsd': ['ptsd','CPTSD'],\n",
        "\n",
        "                'phobia': ['Phobia','emetophobia','Agoraphobia'],\n",
        "\n",
        "                'socialanxiety':['socialanxiety','socialanxiety2'],\n",
        "                \n",
        "                'depression': ['depression1','depression2','depression3'],\n",
        "\n",
        "                'sadness': ['sad11','sad22','sad33'],\n",
        "                \n",
        "                'bipolar': ['bipolar','BipolarReddit'],\n",
        "                \n",
        "                'schizophrenia': ['schizophrenia','paranoidschizophrenia','schizoaffective','Psychosis'],\n",
        "\n",
        "                'cluster_a': ['Schizoid','Schizotypal','ParanoidPersonality',\n",
        "                                'Paranoid','ParanoiaCheck','Paranoia'],\n",
        "                'cluster_b': ['BorderlinePDisorder','BPD','Borderline','hpd','NPD','narcissism',\n",
        "                                'sociopath', 'psychopath','Psychopathy','aspd'],\n",
        "                'cluster_c': ['OCPD','AvPD','Avoidant', 'DPD'],\n",
        "\n",
        "                'selfharm': ['selfharm','StopSelfHarm','AdultSelfHarm',\n",
        "                            'SuicideWatch11','SuicideWatch22','SuicideWatch33'],\n",
        "                \n",
        "                'addiction': ['addiction','alcoholism'],\n",
        "\n",
        "                'eating': ['ARFID', 'bulimia','eating_disorders','EDAnonymous','EatingDisorders'],\n",
        "\n",
        "                'dpdr': ['dpdr'],\n",
        "                'dysmorphic': ['DysmorphicDisorder', 'BodyAcceptance'],\n",
        "                'tourettes': ['Tourettes'],\n",
        "                'anger': ['Anger'],\n",
        "                }\n",
        "\n",
        "    def writ(l, path_to_f):\n",
        "        with open(path_to_f, 'w') as f:\n",
        "            for i in l:\n",
        "                f.write(i+'\\n')\n",
        "\n",
        "    lst = []\n",
        "    c = 1\n",
        "    for folder in groups[label]:\n",
        "        for f in os.listdir(root+folder):\n",
        "            df = pd.read_csv(root+folder+'/'+f, usecols=['text'], engine='c', lineterminator='\\n')\n",
        "            lst.extend([' '.join(x.split()) for x in df.text if isinstance(x,str) and len(x)>500])\n",
        "            while len(lst)>=1000:\n",
        "                writ(lst[:1000], out+label+'/'+str(c)+'.txt')\n",
        "                c += 1\n",
        "                lst = lst[1000:]\n",
        "    writ(lst, out+label+'/'+str(c)+'.txt')\n",
        "\n",
        "# Parallel(n_jobs=-1)(delayed(func)(x) for x in groups.keys())\n",
        "labels = list(groups.keys())\n",
        "labels"
      ],
      "metadata": {
        "colab": {
          "base_uri": "https://localhost:8080/"
        },
        "id": "al5AAKelidwZ",
        "outputId": "f38b2822-8b3b-440f-fa7a-41e714d91e7e"
      },
      "execution_count": null,
      "outputs": [
        {
          "output_type": "execute_result",
          "data": {
            "text/plain": [
              "['general',\n",
              " 'control',\n",
              " 'adhd',\n",
              " 'autism',\n",
              " 'anxiety',\n",
              " 'ocd',\n",
              " 'ptsd',\n",
              " 'phobia',\n",
              " 'socialanxiety',\n",
              " 'depression',\n",
              " 'sadness',\n",
              " 'bipolar',\n",
              " 'schizophrenia',\n",
              " 'cluster_a',\n",
              " 'cluster_b',\n",
              " 'cluster_c',\n",
              " 'selfharm',\n",
              " 'addiction',\n",
              " 'eating',\n",
              " 'dpdr',\n",
              " 'dysmorphic',\n",
              " 'tourettes',\n",
              " 'anger']"
            ]
          },
          "metadata": {},
          "execution_count": 1
        }
      ]
    },
    {
      "cell_type": "code",
      "source": [
        "func(labels[16])"
      ],
      "metadata": {
        "id": "-FSNpXkocAiC"
      },
      "execution_count": null,
      "outputs": []
    },
    {
      "cell_type": "code",
      "source": [
        "M=0\n",
        "for g in groups.keys():\n",
        "    l = sum(1 for _ in os.listdir(out+g))\n",
        "    m = l/1000\n",
        "    print('{:13s}: {:7.4f} million'.format(g,m))\n",
        "    M += m\n",
        "print('{:13s}: {:7.4f} million'.format('total',M))"
      ],
      "metadata": {
        "id": "UTXB--41ihgD",
        "colab": {
          "base_uri": "https://localhost:8080/"
        },
        "outputId": "93989b84-a5c5-4750-b061-03e2d9407b3a"
      },
      "execution_count": null,
      "outputs": [
        {
          "output_type": "stream",
          "name": "stdout",
          "text": [
            "general      :  3.3270 million\n",
            "control      :  3.2290 million\n",
            "adhd         : 12.3040 million\n",
            "autism       : 10.3150 million\n",
            "anxiety      : 10.2710 million\n",
            "ocd          :  2.6030 million\n",
            "ptsd         :  5.8180 million\n",
            "phobia       :  1.0620 million\n",
            "socialanxiety:  3.4190 million\n",
            "depression   : 11.3040 million\n",
            "sadness      :  0.9970 million\n",
            "bipolar      :  5.0270 million\n",
            "schizophrenia:  1.9010 million\n",
            "cluster_a    :  0.6170 million\n",
            "cluster_b    :  6.0260 million\n",
            "cluster_c    :  0.2030 million\n",
            "selfharm     :  2.4300 million\n",
            "addiction    :  2.7600 million\n",
            "eating       :  2.6260 million\n",
            "dpdr         :  0.8080 million\n",
            "dysmorphic   :  0.9700 million\n",
            "tourettes    :  0.4130 million\n",
            "anger        :  0.7620 million\n",
            "total        : 89.1920 million\n"
          ]
        }
      ]
    },
    {
      "cell_type": "code",
      "source": [
        "for g in groups.keys():\n",
        "    os.mkdir(out+g)"
      ],
      "metadata": {
        "id": "S8Grt545id1c"
      },
      "execution_count": null,
      "outputs": []
    },
    {
      "cell_type": "code",
      "source": [
        "def size_folder(path):\n",
        "    l=os.listdir(path)\n",
        "    return (len(l)-1) * 100000 + len(pd.read_csv(path+'/'+l[-1],engine='c',lineterminator='\\n'))\n",
        "\n",
        "N = 0\n",
        "for key,lst in groups.items():\n",
        "    n = 0\n",
        "    for folder in lst:\n",
        "        try:\n",
        "            n += size_folder(root+folder)\n",
        "        except:\n",
        "            print(folder)\n",
        "    print('{:>14}:  {:6.3f}  millions'.format(key, n/1e6))\n",
        "    N += n\n",
        "print('{:>14}:  {:6.3f}  millions'.format('Total', N/1e6))"
      ],
      "metadata": {
        "colab": {
          "base_uri": "https://localhost:8080/"
        },
        "id": "ezzG4h0R4CII",
        "outputId": "f1836e42-69a3-459f-c01d-5c0804f2237c"
      },
      "execution_count": null,
      "outputs": [
        {
          "output_type": "stream",
          "name": "stdout",
          "text": [
            "       general:  36.425  millions\n",
            "       control:  32.777  millions\n",
            "          adhd:  125.454  millions\n",
            "        autism:  100.402  millions\n",
            "       anxiety:  115.900  millions\n",
            "           ocd:  28.456  millions\n",
            "          ptsd:  47.698  millions\n",
            "        phobia:  11.817  millions\n",
            " socialanxiety:  43.700  millions\n",
            "    depression:  139.531  millions\n",
            "       sadness:  18.774  millions\n",
            "       bipolar:  51.591  millions\n",
            " schizophrenia:  20.126  millions\n",
            "     cluster_a:   5.640  millions\n",
            "     cluster_b:  60.288  millions\n",
            "     cluster_c:   1.728  millions\n",
            "      selfharm:  32.624  millions\n",
            "     addiction:  31.834  millions\n",
            "        eating:  27.974  millions\n",
            "          dpdr:   8.600  millions\n",
            "    dysmorphic:   8.977  millions\n",
            "     tourettes:   4.990  millions\n",
            "         anger:   8.566  millions\n",
            "         Total:  963.872  millions\n"
          ]
        }
      ]
    },
    {
      "cell_type": "code",
      "source": [
        "N"
      ],
      "metadata": {
        "id": "6_pOzo94qopa",
        "colab": {
          "base_uri": "https://localhost:8080/"
        },
        "outputId": "6ff5e1b5-30c4-4e50-f4c6-bcfd97e16eb6"
      },
      "execution_count": null,
      "outputs": [
        {
          "output_type": "execute_result",
          "data": {
            "text/plain": [
              "962371518"
            ]
          },
          "metadata": {},
          "execution_count": 8
        }
      ]
    },
    {
      "cell_type": "code",
      "source": [
        ""
      ],
      "metadata": {
        "id": "rUGyFxSp3sJF"
      },
      "execution_count": null,
      "outputs": []
    }
  ]
}